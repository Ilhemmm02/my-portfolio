{
  "cells": [
    {
      "cell_type": "markdown",
      "metadata": {
        "id": "9CZOcL2kvmOQ"
      },
      "source": [
        "#TP2 : Implémentation des heuristiques\n",
        "### Equipe :\n",
        "Aiboud Katia (CE)\n",
        "\n",
        "Meguellati LynaRazane\n",
        "\n",
        "Mechitoua  Ikram\n",
        "\n",
        "Kherroubi Ilhem\n",
        "\n",
        "Bouyousfi Rihab\n",
        "\n",
        "Filali  Sara"
      ]
    },
    {
      "cell_type": "code",
      "execution_count": null,
      "metadata": {
        "colab": {
          "base_uri": "https://localhost:8080/"
        },
        "id": "uFHZHiztt-L3",
        "outputId": "94f3d869-d24e-4401-d71a-365d0051c0ba"
      },
      "outputs": [
        {
          "output_type": "stream",
          "name": "stdout",
          "text": [
            "Requirement already satisfied: tsplib95 in /usr/local/lib/python3.10/dist-packages (0.7.1)\n",
            "Requirement already satisfied: Click>=6.0 in /usr/local/lib/python3.10/dist-packages (from tsplib95) (8.1.7)\n",
            "Requirement already satisfied: Deprecated~=1.2.9 in /usr/local/lib/python3.10/dist-packages (from tsplib95) (1.2.14)\n",
            "Requirement already satisfied: networkx~=2.1 in /usr/local/lib/python3.10/dist-packages (from tsplib95) (2.8.8)\n",
            "Requirement already satisfied: tabulate~=0.8.7 in /usr/local/lib/python3.10/dist-packages (from tsplib95) (0.8.10)\n",
            "Requirement already satisfied: wrapt<2,>=1.10 in /usr/local/lib/python3.10/dist-packages (from Deprecated~=1.2.9->tsplib95) (1.14.1)\n"
          ]
        }
      ],
      "source": [
        " pip install tsplib95\n"
      ]
    },
    {
      "cell_type": "code",
      "execution_count": null,
      "metadata": {
        "colab": {
          "base_uri": "https://localhost:8080/"
        },
        "id": "tMJ51tq9tlHI",
        "outputId": "16372c03-e650-4216-8793-c3e9e95c44b8"
      },
      "outputs": [
        {
          "output_type": "stream",
          "name": "stdout",
          "text": [
            "Requirement already satisfied: tabulate in /usr/local/lib/python3.10/dist-packages (0.8.10)\n"
          ]
        }
      ],
      "source": [
        " pip install tabulate\n"
      ]
    },
    {
      "cell_type": "code",
      "execution_count": null,
      "metadata": {
        "id": "rMczmBuN23ZS"
      },
      "outputs": [],
      "source": [
        "# distance matrix calcultor\n",
        "import tsplib95\n",
        "import numpy as np\n",
        "import time\n",
        "\n",
        "def lire_fichier_tsp(nom_fichier):\n",
        "    coordinates = []\n",
        "    with open(nom_fichier, 'r') as fichier:\n",
        "        for ligne in fichier:\n",
        "            parts = ligne.split()\n",
        "            if len(parts) == 3:  # Supposons que le fichier contient une ligne par ville, avec l'ID de la ville et ses coordonnées x, y\n",
        "                try:\n",
        "                    coordinates.append((float(parts[1]), float(parts[2])))\n",
        "                except ValueError:\n",
        "                    pass  # Ignore les lignes qui ne sont pas des coordonnées valides\n",
        "    return coordinates\n",
        "\n",
        "def compute_distance_matrix(coordinates):\n",
        "    n = len(coordinates)\n",
        "    distance_matrix = np.full((n, n), np.inf)\n",
        "\n",
        "    for i in range(n):\n",
        "        for j in range(i + 1, n):\n",
        "            x1, y1 = coordinates[i]\n",
        "            x2, y2 = coordinates[j]\n",
        "\n",
        "            # Euclidean distance\n",
        "            distance = ((x1 - x2) ** 2 + (y1 - y2) ** 2) ** 0.5\n",
        "\n",
        "            # we take d numbers in decimal part\n",
        "            distance_matrix[i][j] = round(distance, 2)\n",
        "            distance_matrix[j][i] = round(distance, 2)\n",
        "\n",
        "    return distance_matrix\n",
        "\n"
      ]
    },
    {
      "cell_type": "code",
      "execution_count": null,
      "metadata": {
        "id": "6_XgQezC5ev6"
      },
      "outputs": [],
      "source": [
        "'''pour le deuxieme type de fichier'''\n",
        "import numpy as np\n",
        "\n",
        "def read_tsp_file(filename):\n",
        "    with open(filename, 'r') as file:\n",
        "        lines = file.readlines()\n",
        "\n",
        "    dimension = 0\n",
        "    edge_weight_section_found = False\n",
        "    for line in lines:\n",
        "        if line.startswith(\"DIMENSION\"):\n",
        "            dimension = int(line.split(\":\")[1])\n",
        "        elif \"EDGE_WEIGHT_SECTION\" in line:\n",
        "            edge_weight_section_found = True\n",
        "            break\n",
        "\n",
        "    if not edge_weight_section_found:\n",
        "        raise ValueError(\"No EDGE_WEIGHT_SECTION found in the file.\")\n",
        "\n",
        "    matrix = np.zeros((dimension, dimension), dtype=int)\n",
        "\n",
        "    # Find the line number where the matrix starts\n",
        "    matrix_start_line = lines.index(line) + 1\n",
        "\n",
        "    # Start reading the matrix values\n",
        "    for i in range(dimension):\n",
        "        values = lines[matrix_start_line + i].split()\n",
        "        for j in range(dimension):\n",
        "            matrix[i][j] = int(values[j])\n",
        "\n",
        "    return matrix\n",
        "\n",
        "\n"
      ]
    },
    {
      "cell_type": "markdown",
      "metadata": {
        "id": "ClemigrIh-BS"
      },
      "source": [
        "# Algorithme 2-opt"
      ]
    },
    {
      "cell_type": "markdown",
      "metadata": {
        "id": "dwu5l_p2-Xpb"
      },
      "source": [
        "L’idée de l’heuristique 2-opt est de supprimer deux arêtes du chemin initial\n",
        "et de les remplacer par deux autres arêtes pour obtenir un nouveau chemin\n",
        "potentiel. En inversant l’ordre des sommets situés entre les deux paires d’arêtes,\n",
        "on peut explorer différentes configurations du chemin. Si le nouveau chemin a\n",
        "une longueur totale inférieure à celle du chemin actuel, il est mis à jour.\n",
        "Voici le principe de l’heuristique 2-opt :\n",
        "1. Initialisation : Démarrez avec un chemin initial qui peut être généré de manière aléatoire ou en utilisant une heuristique de construction.\n",
        "2. Boucle 2-opt : Répétez les étapes suivantes jusqu’à ce qu’aucun échange d’arête ne puisse améliorer davantage la solution :\n",
        "  • Sélectionnez deux arêtes du chemin actuel (sous forme de deux paires\n",
        "  de sommets consécutifs).\n",
        "  • Calculez la longueur totale du chemin actuel.\n",
        "  • Inversez l’ordre des sommets situés entre les deux paires d’arêtes sélectionnées, créant ainsi un nouveau chemin potentiel.\n",
        "  • Calculez la longueur totale du nouveau chemin.\n",
        "  • Si la longueur du nouveau chemin est inférieure à celle du chemin actuel,remplacez le chemin actuel par le nouveau chemin.\n",
        "3. L’algorithme se termine lorsque la boucle 2-opt ne peut plus trouver d’échanges d’arêtes qui améliorent la solution."
      ]
    },
    {
      "cell_type": "code",
      "execution_count": null,
      "metadata": {
        "id": "Wy8ZnMSBiGLM"
      },
      "outputs": [],
      "source": [
        "\n",
        "import math\n",
        "import numpy as np\n",
        "import time\n",
        "\n",
        "def OPT(cities: np.ndarray):\n",
        "\n",
        "    # Choisir une ville de départ aléatoire\n",
        "    start_city = 0\n",
        "    current_city = start_city\n",
        "    tour = [start_city]\n",
        "    # Initialiser le coût total à 0\n",
        "    total_cost = 0\n",
        "    # Tant qu'il y a des villes non visitées\n",
        "    while len(tour) < np.shape(cities)[0]:\n",
        "\n",
        "        # Trouver la ville la plus proche\n",
        "        closest_city = None\n",
        "        closest_distance = math.inf\n",
        "        for city in range(np.shape(cities)[0]):\n",
        "            if city not in tour:\n",
        "                if cities[current_city][city] < closest_distance:\n",
        "                    closest_city = city\n",
        "                    closest_distance = cities[current_city][city]\n",
        "\n",
        "        # Ajouter la ville la plus proche à la tournée\n",
        "        if closest_city is not None:\n",
        "            tour.append(closest_city)\n",
        "            total_cost += closest_distance\n",
        "            current_city = closest_city\n",
        "\n",
        "    # Appliquer l'optimisation 2-opt\n",
        "    improved = True\n",
        "    while improved:\n",
        "        improved = False\n",
        "        for i in range(len(tour) - 2):\n",
        "            for j in range(i + 2, len(tour) - 1):\n",
        "                new_cost = (total_cost\n",
        "                            - cities[tour[i], tour[i+1]]\n",
        "                            - cities[tour[j], tour[j+1]]\n",
        "                            + cities[tour[i], tour[j]]\n",
        "                            + cities[tour[i+1], tour[j+1]])\n",
        "                if new_cost < total_cost:\n",
        "                    tour[i+1:j+1] = reversed(tour[i+1:j+1])\n",
        "                    total_cost = new_cost\n",
        "                    improved = True\n",
        "\n",
        "    # Revenir à la ville de départ\n",
        "    tour.append(start_city)\n",
        "    total_cost += cities[current_city][start_city]\n",
        "\n",
        "    return total_cost,tour\n",
        "\n"
      ]
    },
    {
      "cell_type": "code",
      "execution_count": null,
      "metadata": {
        "colab": {
          "base_uri": "https://localhost:8080/"
        },
        "id": "zsX6aIKut5Jw",
        "outputId": "c474c8dd-e326-4742-86de-ee50caa5959f"
      },
      "outputs": [
        {
          "output_type": "stream",
          "name": "stdout",
          "text": [
            "+---------------+--------------------------------+---------+\n",
            "| Fichier TSP   |   Temps d'exécution (secondes) |    Cost |\n",
            "+===============+================================+=========+\n",
            "| ulysses16.tsp |                    0.000878572 |   83.59 |\n",
            "+---------------+--------------------------------+---------+\n",
            "| ulysses22.tsp |                    0.0016849   |   85.61 |\n",
            "+---------------+--------------------------------+---------+\n",
            "| st70.tsp      |                    0.0364256   |  751.22 |\n",
            "+---------------+--------------------------------+---------+\n",
            "| rd100.tsp     |                    0.0677741   | 8864.6  |\n",
            "+---------------+--------------------------------+---------+\n"
          ]
        }
      ],
      "source": [
        "from tabulate import tabulate\n",
        "tsp_files = ['ulysses16.tsp','ulysses22.tsp','st70.tsp','rd100.tsp']\n",
        "table_data = []\n",
        "\n",
        "for tsp_file_path in tsp_files:\n",
        "    coordinates = lire_fichier_tsp(tsp_file_path)\n",
        "    D = compute_distance_matrix(coordinates)\n",
        "    start = time.time()\n",
        "    cost, path = OPT(D)\n",
        "    end = time.time()\n",
        "\n",
        "    table_data.append([tsp_file_path, end - start, cost])\n",
        "\n",
        "headers = [\"Fichier TSP\", \"Temps d'exécution (secondes)\", \"Cost\"]\n",
        "print(tabulate(table_data, headers=headers, tablefmt=\"grid\"))\n"
      ]
    },
    {
      "cell_type": "markdown",
      "metadata": {
        "id": "fSbYYsWfk0mb"
      },
      "source": [
        "# Heuristique de Lin-Kernighan-helsgaun"
      ]
    },
    {
      "cell_type": "markdown",
      "source": [
        "L'heuristique Lin-Kernighan-Helsgaun est une méthode d'optimisation utilisée principalement pour résoudre le problème du voyageur de commerce, visant à trouver le parcours le plus court reliant un ensemble de villes. Développée par trois chercheurs, Lin, Kernighan et Helsgaun, cette méthode combine des idées de plusieurs algorithmes précédents pour obtenir des solutions de haute qualité de manière efficace. Elle se distingue par son approche de recherche locale et sa capacité à améliorer progressivement une solution initiale en utilisant des techniques de réarrangement subtiles. L'heuristique Lin-Kernighan-Helsgaun a été largement étudiée et adaptée pour diverses applications nécessitant une optimisation de trajets ou de circuits. Son efficacité repose sur des mécanismes d'échange de segments de parcours et de sélection de mouvements intelligents, ce qui en fait un outil précieux dans le domaine de la logistique et de la planification d'itinéraires."
      ],
      "metadata": {
        "id": "GZc4nGOfP98U"
      }
    },
    {
      "cell_type": "code",
      "execution_count": null,
      "metadata": {
        "id": "m6oaIb4wk49b"
      },
      "outputs": [],
      "source": [
        "import numpy as np\n",
        "\n",
        "def calculate_tour_length(tour, distance_matrix):\n",
        "    length = 0\n",
        "    for i in range(len(tour) - 1):\n",
        "        length += distance_matrix[tour[i]][tour[i+1]]\n",
        "    length += distance_matrix[tour[-1]][tour[0]]  # Return to the starting city\n",
        "    return length\n",
        "\n",
        "def reverse_segment(tour, i, j):\n",
        "    # Reverse the segment between indices i and j in the tour\n",
        "    new_tour = tour[:i] + tour[i:j+1][::-1] + tour[j+1:]\n",
        "    return new_tour\n",
        "\n",
        "def greedy_initial_solution(distance_matrix):\n",
        "    num_cities = len(distance_matrix)\n",
        "    unvisited_cities = set(range(1, num_cities))\n",
        "    tour = [0]  # Start from city 0\n",
        "\n",
        "    while unvisited_cities:\n",
        "        current_city = tour[-1]\n",
        "        nearest_city = min(unvisited_cities, key=lambda city: distance_matrix[current_city][city])\n",
        "        tour.append(nearest_city)\n",
        "        unvisited_cities.remove(nearest_city)\n",
        "\n",
        "    return tour\n",
        "\n",
        "def lin_kernighan_helsgaun(distance_matrix):\n",
        "    num_cities = len(distance_matrix)\n",
        "    initial_tour = greedy_initial_solution(distance_matrix)\n",
        "    # Iterative improvement\n",
        "    for _ in range(20):#chosen number of iterations not necessary num_cities\n",
        "        min_delta = float('inf')\n",
        "        best_i, best_j = -1, -1\n",
        "\n",
        "        for i in range(num_cities - 1):\n",
        "            for j in range(i + 2, num_cities - 1):\n",
        "                delta = calculate_tour_length(reverse_segment(initial_tour, i, j), distance_matrix) - calculate_tour_length(initial_tour, distance_matrix)\n",
        "\n",
        "                if delta < min_delta:\n",
        "                    min_delta = delta\n",
        "                    best_i, best_j = i, j\n",
        "\n",
        "        if min_delta < 0:\n",
        "            initial_tour = reverse_segment(initial_tour, best_i, best_j)\n",
        "\n",
        "    return initial_tour, calculate_tour_length(initial_tour, distance_matrix)\n",
        "\n",
        "def extract_submatrix(matrix, start_row, start_col, k):\n",
        "    return matrix[start_row:start_row + k, start_col:start_col + k]\n",
        "\n",
        "\n"
      ]
    },
    {
      "cell_type": "code",
      "execution_count": null,
      "metadata": {
        "id": "N2K47JVJevYo",
        "colab": {
          "base_uri": "https://localhost:8080/"
        },
        "outputId": "1ff38ace-ef61-4f36-9da9-814980ed9614"
      },
      "outputs": [
        {
          "output_type": "stream",
          "name": "stdout",
          "text": [
            "+---------------+------------------------+--------------------------------+\n",
            "| Fichier TSP   |   Coût approché obtenu |   Temps d'exécution (secondes) |\n",
            "+===============+========================+================================+\n",
            "| burma14.tsp   |                  32.7  |                      0.0363927 |\n",
            "+---------------+------------------------+--------------------------------+\n",
            "| ulysses16.tsp |                  74.3  |                      0.0565853 |\n",
            "+---------------+------------------------+--------------------------------+\n",
            "| ulysses22.tsp |                  76.21 |                      0.194263  |\n",
            "+---------------+------------------------+--------------------------------+\n",
            "| bayg29.tsp    |               10322.5  |                      0.450024  |\n",
            "+---------------+------------------------+--------------------------------+\n",
            "| st70.tsp      |                 700.26 |                      3.18517   |\n",
            "+---------------+------------------------+--------------------------------+\n"
          ]
        }
      ],
      "source": [
        "import time\n",
        "from tabulate import tabulate\n",
        "tsp_files = ['burma14.tsp','ulysses16.tsp', 'ulysses22.tsp','bayg29.tsp','st70.tsp']\n",
        "\n",
        "# Définir manuellement les solutions exactes pour chaque jeu de données TSP\n",
        "\n",
        "table_data = []\n",
        "\n",
        "for tsp_file_path in tsp_files:\n",
        "    coordinates = lire_fichier_tsp(tsp_file_path)\n",
        "    D = compute_distance_matrix(coordinates)\n",
        "    start = time.time()\n",
        "    path, cost = lin_kernighan_helsgaun(D)\n",
        "    end = time.time()\n",
        "    execution_time = end - start\n",
        "    table_data.append([tsp_file_path, cost, execution_time])\n",
        "\n",
        "headers = [\"Fichier TSP\", \"Coût approché obtenu\", \"Temps d'exécution (secondes)\"]\n",
        "print(tabulate(table_data, headers=headers, tablefmt=\"grid\"))"
      ]
    },
    {
      "cell_type": "markdown",
      "metadata": {
        "id": "LdSttKdwVrg9"
      },
      "source": [
        "\n",
        "\n",
        "\n",
        "# RNN :Repetitive Nearest Neighbor\n"
      ]
    },
    {
      "cell_type": "code",
      "execution_count": null,
      "metadata": {
        "id": "KAnKuVP3Vj4d"
      },
      "outputs": [],
      "source": [
        "def NN_ALG(G, current):\n",
        "    \"\"\"L'algorithme du plus proche voisin.\n",
        "\n",
        "    G est un graphe complet non orienté sous forme de matrice d'adjacence.\n",
        "    La variable current représente le sommet initial.\n",
        "    \"\"\"\n",
        "\n",
        "    # Liste bestPath contient le chemin solution;\n",
        "    bestPath = [0 for n in range(len(G))]\n",
        "    # Liste visited contient les sommets déjà visités;\n",
        "    visited = [current]\n",
        "\n",
        "    # Trouve la plus courte parmi les arêtes\n",
        "    # connectant le sommet actuel\n",
        "    # avec les sommets non visités.\n",
        "    for i in range(len(G)):\n",
        "        # Le tuple minimum := (w, j) contient l'indice du sommet non visité\n",
        "        # j et le poids de l'arête w, reliant j au dernier sommet ajouté\n",
        "        # à la solution.\n",
        "        minimum = (0, 0)\n",
        "        for j in range(len(G)):\n",
        "            if (j not in visited and\n",
        "                (0 < G[current][j] < minimum[0] or minimum == (0, 0))):\n",
        "                minimum = (G[current][j], j)\n",
        "\n",
        "        current = minimum[1]\n",
        "        bestPath[i] = visited[-1]\n",
        "        visited.append(current)\n",
        "\n",
        "    # Le chemin est connecté pour former un cycle\n",
        "    bestPath.append(bestPath[0])\n",
        "\n",
        "    # Calcul du poids du chemin\n",
        "    path_weight = 0\n",
        "    for i in range(len(bestPath) - 1):\n",
        "        path_weight += G[bestPath[i]][bestPath[i+1]]\n",
        "\n",
        "    return bestPath, path_weight\n",
        "\n",
        "\n",
        "def RNN_ALG(G):\n",
        "    \"\"\"Powtarzalny algorytm najbliższego sąsiada (RNN).\n",
        "    G jest pełnym grafem nieskierowanym w postaci macierzy sąsiedztwa.\n",
        "    \"\"\"\n",
        "\n",
        "    # Lista bestPath zawiera ścieżkę o najmniejszej wadze z już sprawdzonych ścieżek.\n",
        "    bestPath = None\n",
        "    bestPathWeight = 0\n",
        "\n",
        "    for i in range(len(G)):\n",
        "        # Wywoływany jest algorytm najbliższego sąsiada dla każdego n.\n",
        "        temp_path, temp_weight = NN_ALG(G, i)\n",
        "\n",
        "        # Porównywana jest obecna najlepsza ścieżka z nowym rozwiązaniem.\n",
        "        if temp_weight < bestPathWeight or bestPathWeight == 0:\n",
        "            bestPathWeight = temp_weight\n",
        "            bestPath = temp_path\n",
        "\n",
        "    return bestPath, bestPathWeight"
      ]
    },
    {
      "cell_type": "code",
      "execution_count": null,
      "metadata": {
        "id": "r3llvvZf1OzM",
        "colab": {
          "base_uri": "https://localhost:8080/"
        },
        "outputId": "c43411fb-4e40-4b9c-e9db-652f66a83a4a"
      },
      "outputs": [
        {
          "output_type": "stream",
          "name": "stdout",
          "text": [
            "+---------------+------------------------+--------------------------------+\n",
            "| Fichier TSP   |   Coût approché obtenu |   Temps d'exécution (secondes) |\n",
            "+===============+========================+================================+\n",
            "| burma14.tsp   |                  31.21 |                     0.00425982 |\n",
            "+---------------+------------------------+--------------------------------+\n",
            "| ulysses16.tsp |                  77.12 |                     0.00186539 |\n",
            "+---------------+------------------------+--------------------------------+\n",
            "| ulysses22.tsp |                  86.9  |                     0.00429773 |\n",
            "+---------------+------------------------+--------------------------------+\n",
            "| bayg29.tsp    |               10778.4  |                     0.0117161  |\n",
            "+---------------+------------------------+--------------------------------+\n",
            "| st70.tsp      |                 761.66 |                     0.190882   |\n",
            "+---------------+------------------------+--------------------------------+\n"
          ]
        }
      ],
      "source": [
        "import time\n",
        "from tabulate import tabulate\n",
        "\n",
        "tsp_files = ['burma14.tsp','ulysses16.tsp', 'ulysses22.tsp','bayg29.tsp','st70.tsp']\n",
        "\n",
        "# Définir manuellement les solutions exactes pour chaque jeu de données TSP\n",
        "\n",
        "table_data = []\n",
        "\n",
        "for tsp_file_path in tsp_files :\n",
        "    coordinates = lire_fichier_tsp(tsp_file_path)\n",
        "    D = compute_distance_matrix(coordinates)\n",
        "    start = time.time()\n",
        "    path,cost = RNN_ALG(D)\n",
        "    end = time.time()\n",
        "    execution_time = end - start\n",
        "    table_data.append([tsp_file_path, cost, execution_time])\n",
        "\n",
        "headers = [\"Fichier TSP\", \"Coût approché obtenu\", \"Temps d'exécution (secondes)\"]\n",
        "\n",
        "print(tabulate(table_data, headers=headers, tablefmt=\"grid\"))"
      ]
    },
    {
      "cell_type": "markdown",
      "metadata": {
        "id": "XucvGoFim5jz"
      },
      "source": []
    },
    {
      "cell_type": "code",
      "execution_count": null,
      "metadata": {
        "id": "bmg48z8NpYnD",
        "colab": {
          "base_uri": "https://localhost:8080/"
        },
        "outputId": "e4272138-af4b-4e78-c81a-ff89ae2bf62b"
      },
      "outputs": [
        {
          "output_type": "stream",
          "name": "stdout",
          "text": [
            "+---------------+-----------------------------+--------------+---------------------------+------------+---------------------------+------------+\n",
            "| Fichier TSP   |   Temps exécution 2 OPT (s) |   Coût 2 OPT |   Temps exécution LKH (s) |   Coût LKH |   Temps exécution RNN (s) |   Coût RNN |\n",
            "+===============+=============================+==============+===========================+============+===========================+============+\n",
            "| burma14.tsp   |                 0.000442028 |        38.49 |                 0.0307288 |      32.7  |                0.00120473 |      31.21 |\n",
            "+---------------+-----------------------------+--------------+---------------------------+------------+---------------------------+------------+\n",
            "| ulysses16.tsp |                 0.000464439 |        83.59 |                 0.0260794 |      74.3  |                0.00166035 |      77.12 |\n",
            "+---------------+-----------------------------+--------------+---------------------------+------------+---------------------------+------------+\n",
            "| ulysses22.tsp |                 0.000858784 |        85.61 |                 0.0722144 |      76.21 |                0.00424051 |      86.9  |\n",
            "+---------------+-----------------------------+--------------+---------------------------+------------+---------------------------+------------+\n",
            "| bayg29.tsp    |                 0.00168133  |     12090.9  |                 0.188786  |   10322.5  |                0.0110135  |   10778.4  |\n",
            "+---------------+-----------------------------+--------------+---------------------------+------------+---------------------------+------------+\n",
            "| st70.tsp      |                 0.0142174   |       751.22 |                 3.53626   |     700.26 |                0.357872   |     761.66 |\n",
            "+---------------+-----------------------------+--------------+---------------------------+------------+---------------------------+------------+\n"
          ]
        }
      ],
      "source": [
        "import time\n",
        "from tabulate import tabulate\n",
        "\n",
        "tsp_files = ['burma14.tsp','ulysses16.tsp', 'ulysses22.tsp','bayg29.tsp','st70.tsp']\n",
        "\n",
        "table_data = []\n",
        "\n",
        "for tsp_file_path in tsp_files:\n",
        "    coordinates = lire_fichier_tsp(tsp_file_path)\n",
        "    D = compute_distance_matrix(coordinates)\n",
        "\n",
        "    start = time.time()\n",
        "    cost1, path1 = OPT(D)\n",
        "    end = time.time()\n",
        "    execution_time1 = end - start\n",
        "\n",
        "    start = time.time()\n",
        "    path2, cost2 = lin_kernighan_helsgaun(D)\n",
        "    end = time.time()\n",
        "    execution_time2 = end - start\n",
        "\n",
        "    start = time.time()\n",
        "    path3, cost3 = RNN_ALG(D)\n",
        "    end = time.time()\n",
        "    execution_time3 = end - start\n",
        "\n",
        "    table_data.append([tsp_file_path,\n",
        "                       execution_time1, cost1,\n",
        "                       execution_time2, cost2,\n",
        "                       execution_time3, cost3])\n",
        "\n",
        "headers = [\"Fichier TSP\", \"Temps exécution 2 OPT (s)\", \"Coût 2 OPT\", \"Temps exécution LKH (s)\", \"Coût LKH\", \"Temps exécution RNN (s)\", \"Coût RNN\"]\n",
        "print(tabulate(table_data, headers=headers, tablefmt=\"grid\"))\n"
      ]
    },
    {
      "cell_type": "code",
      "execution_count": null,
      "metadata": {
        "id": "2boxn2x0IH0Y",
        "colab": {
          "base_uri": "https://localhost:8080/",
          "height": 565
        },
        "outputId": "a01f856d-b479-4e9c-f1eb-8c55f8438de7"
      },
      "outputs": [
        {
          "output_type": "display_data",
          "data": {
            "text/plain": [
              "<Figure size 1000x600 with 1 Axes>"
            ],
            "image/png": "[encoded data removed]"
          },
          "metadata": {}
        }
      ],
      "source": [
        "import time\n",
        "import matplotlib.pyplot as plt\n",
        "import numpy as np\n",
        "\n",
        "\n",
        "# Définissez les fichiers de jeu de données\n",
        "tsp_files = ['burma14.tsp','ulysses16.tsp', 'ulysses22.tsp','bayg29.tsp','st70.tsp']\n",
        "\n",
        "# Stockez les temps d'exécution pour chaque algorithme et chaque ensemble de données\n",
        "# dans un dictionnaire où la clé est le nom de l'algorithme\n",
        "# et la valeur est une liste de temps d'exécution correspondants pour chaque ensemble de données\n",
        "execution_times = {'RNN_ALG': [], 'lin_kernighan_helsgaun': [], 'OPT': []}\n",
        "\n",
        "# Choisissez l'algorithme de lecture de fichier de données\n",
        "def read_dataset(filename):\n",
        "    try:\n",
        "        return compute_distance_matrix(lire_fichier_tsp(filename))\n",
        "    except ValueError:\n",
        "        return read_tsp_file(filename)\n",
        "\n",
        "# Boucle sur les fichiers de jeu de données\n",
        "for tsp_file in tsp_files:\n",
        "    # Lire le jeu de données\n",
        "    dataset = read_dataset(tsp_file)\n",
        "    # Boucle sur les algorithmes\n",
        "    for algo_name, algo_func in [('RNN_ALG', RNN_ALG), ('lin_kernighan_helsgaun', lin_kernighan_helsgaun), ('OPT',OPT)]:\n",
        "        start_time = time.time()\n",
        "        # Exécutez l'algorithme sur le jeu de données actuel\n",
        "        algo_func(dataset)\n",
        "        end_time = time.time()\n",
        "\n",
        "        # Enregistrez le temps d'exécution\n",
        "        execution_times[algo_name].append(end_time - start_time)\n",
        "\n",
        "# Tracez les graphiques\n",
        "plt.figure(figsize=(10, 6))\n",
        "for algo_name, times in execution_times.items():\n",
        "    plt.plot(range(1, len(tsp_files) + 1), times, marker='o', label=algo_name)\n",
        "\n",
        "plt.xticks(range(1, len(tsp_files) + 1), tsp_files)\n",
        "plt.xlabel('Taille du dataset')\n",
        "plt.ylabel('Temps d\\'exécution (secondes)')\n",
        "plt.title('Variation du temps d\\'exécution en fonction de la taille du dataset')\n",
        "plt.legend()\n",
        "plt.grid(True)\n",
        "plt.show()\n"
      ]
    },
    {
      "cell_type": "code",
      "source": [
        "import time\n",
        "from tabulate import tabulate\n",
        "\n",
        "tsp_files = ['burma14.tsp','ulysses16.tsp', 'ulysses22.tsp','bayg29.tsp','st70.tsp']\n",
        "exact_solutions = [30.87,73.98, 75.29, 10000,  675]\n",
        "#pour bayg29 on a aps trouver la solution exacte\n",
        "table_data = []\n",
        "\n",
        "for tsp_file_path, exact_solution in zip(tsp_files, exact_solutions):\n",
        "    coordinates = lire_fichier_tsp(tsp_file_path)\n",
        "    D = compute_distance_matrix(coordinates)\n",
        "\n",
        "    start = time.time()\n",
        "    cost1, path1 = OPT(D)\n",
        "    end = time.time()\n",
        "    execution_time1 = end - start\n",
        "\n",
        "    start = time.time()\n",
        "    path2, cost2 = lin_kernighan_helsgaun(D)\n",
        "    end = time.time()\n",
        "    execution_time2 = end - start\n",
        "\n",
        "    start = time.time()\n",
        "    path3, cost3 = RNN_ALG(D)\n",
        "    end = time.time()\n",
        "    execution_time3 = end - start\n",
        "\n",
        "    table_data.append([tsp_file_path,\n",
        "                       exact_solution,\n",
        "                       execution_time1, cost1,\n",
        "                       execution_time2, cost2,\n",
        "                       execution_time3, cost3,\n",
        "                       ])\n",
        "\n",
        "headers = [\"Fichier TSP\",  \"Solution exacte\",\"Temps exécution 2 OPT (s)\", \"Coût 2 OPT\", \"Temps exécution LKH (s)\", \"Coût LKH\", \"Temps exécution RNN (s)\", \"Coût RNN\", \"Solution exacte\"]\n",
        "print(tabulate(table_data, headers=headers, tablefmt=\"grid\"))\n"
      ],
      "metadata": {
        "colab": {
          "base_uri": "https://localhost:8080/"
        },
        "id": "CvBPaRlwsQhs",
        "outputId": "8e655bb9-2f82-421a-c4cf-d17625da9f5a"
      },
      "execution_count": null,
      "outputs": [
        {
          "output_type": "stream",
          "name": "stdout",
          "text": [
            "+---------------+-------------------+-----------------------------+--------------+---------------------------+------------+---------------------------+------------+\n",
            "| Fichier TSP   |   Solution exacte |   Temps exécution 2 OPT (s) |   Coût 2 OPT |   Temps exécution LKH (s) |   Coût LKH |   Temps exécution RNN (s) |   Coût RNN |\n",
            "+===============+===================+=============================+==============+===========================+============+===========================+============+\n",
            "| burma14.tsp   |             30.87 |                 0.000389814 |        38.49 |                 0.0391283 |      32.7  |                0.00205564 |      31.21 |\n",
            "+---------------+-------------------+-----------------------------+--------------+---------------------------+------------+---------------------------+------------+\n",
            "| ulysses16.tsp |             73.98 |                 0.000890255 |        83.59 |                 0.115981  |      74.3  |                0.0133121  |      77.12 |\n",
            "+---------------+-------------------+-----------------------------+--------------+---------------------------+------------+---------------------------+------------+\n",
            "| ulysses22.tsp |             75.29 |                 0.00162578  |        85.61 |                 0.18692   |      76.21 |                0.00919867 |      86.9  |\n",
            "+---------------+-------------------+-----------------------------+--------------+---------------------------+------------+---------------------------+------------+\n",
            "| bayg29.tsp    |          10000    |                 0.00371337  |     12090.9  |                 0.574269  |   10322.5  |                0.0215955  |   10778.4  |\n",
            "+---------------+-------------------+-----------------------------+--------------+---------------------------+------------+---------------------------+------------+\n",
            "| st70.tsp      |            675    |                 0.0268197   |       751.22 |                 8.9807    |     700.26 |                0.196293   |     761.66 |\n",
            "+---------------+-------------------+-----------------------------+--------------+---------------------------+------------+---------------------------+------------+\n"
          ]
        }
      ]
    }
  ],
  "metadata": {
    "colab": {
      "provenance": []
    },
    "kernelspec": {
      "display_name": "Python 3",
      "name": "python3"
    },
    "language_info": {
      "name": "python"
    }
  },
  "nbformat": 4,
  "nbformat_minor": 0
}