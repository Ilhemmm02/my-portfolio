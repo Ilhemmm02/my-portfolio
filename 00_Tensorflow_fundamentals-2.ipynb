{
  "cells": [
    {
      "cell_type": "markdown",
      "metadata": {
        "id": "rk2xMyE8Hd6W"
      },
      "source": [
        "# Introduction to tensorflow\n"
      ]
    },
    {
      "cell_type": "markdown",
      "source": [
        "\n",
        "\n",
        "> TensorFlow is a powerful open-source library for building and training machine learning models.\n",
        "\n",
        "\n",
        "> Real-world applications:\n",
        "\n",
        "*   Image Recognition\n",
        "*   Natural Language Processing\n",
        "*   Time Series Forecasting\n",
        "\n",
        "\n",
        "\n",
        "\n",
        "\n",
        "\n"
      ],
      "metadata": {
        "id": "iGnGLAbfpJ2k"
      }
    },
    {
      "cell_type": "markdown",
      "source": [
        "*What will we cover in this notebook ?*"
      ],
      "metadata": {
        "id": "HjlvJ-ypp-do"
      }
    },
    {
      "cell_type": "markdown",
      "source": [
        "* Introduction to tensors (creating tensors)\n",
        "* Getting information from tensors (tensor attributes)\n",
        "* Manipulating tensors (tensor operations)\n",
        "* Tensors and NumPy\n",
        "* Using @tf.function (a way to speed up your regular Python functions)\n",
        "* Using GPUs with TensorFlow"
      ],
      "metadata": {
        "id": "ygGjM0P4qDc3"
      }
    },
    {
      "cell_type": "markdown",
      "source": [
        "## 1.  First things first : what version are we using ?"
      ],
      "metadata": {
        "id": "RhB4as11qrF8"
      }
    },
    {
      "cell_type": "code",
      "execution_count": 2,
      "metadata": {
        "colab": {
          "base_uri": "https://localhost:8080/"
        },
        "id": "0Wr8_gScH5wX",
        "outputId": "23430cad-b88d-4c80-c85c-6e4b330fefcf"
      },
      "outputs": [
        {
          "output_type": "stream",
          "name": "stdout",
          "text": [
            "2.17.1\n"
          ]
        }
      ],
      "source": [
        "import tensorflow as tf\n",
        "print(tf.__version__)"
      ]
    },
    {
      "cell_type": "markdown",
      "metadata": {
        "id": "ty5Kn_rGIKCm"
      },
      "source": [
        "Note: we use 2* _ for the version\n"
      ]
    },
    {
      "cell_type": "markdown",
      "source": [
        "## 2.  What is a tensor ?"
      ],
      "metadata": {
        "id": "5RNvCe_drIR0"
      }
    },
    {
      "cell_type": "markdown",
      "source": [
        " * If you've ever used NumPy, tensors are kind of like NumPy arrays.\n",
        " * The main difference between tensors and NumPy arrays (also an n-dimensional array of numbers) is that tensors can be used on GPUs (graphical processing units) and TPUs (tensor processing units).\n",
        " * The benefit of being able to run on GPUs and TPUs is faster computation, this means, if we wanted to find patterns in the numerical representations of our data, we can generally find them faster using GPUs and TPUs."
      ],
      "metadata": {
        "id": "iMh70_h7rPg2"
      }
    },
    {
      "cell_type": "markdown",
      "metadata": {
        "id": "cRtEAVJ6JOT5"
      },
      "source": [
        "## 3. Creating a tensor with tf.constant()\n",
        "\n",
        "This isn't used in practice much, since it is handled with modules, but it helps to get familiar with tensors themselves"
      ]
    },
    {
      "cell_type": "code",
      "execution_count": 3,
      "metadata": {
        "colab": {
          "base_uri": "https://localhost:8080/"
        },
        "id": "mvZ762LNI_Xo",
        "outputId": "02aadd6c-f7a9-4dd2-aff8-993206a921c1"
      },
      "outputs": [
        {
          "output_type": "execute_result",
          "data": {
            "text/plain": [
              "<tf.Tensor: shape=(), dtype=int32, numpy=7>"
            ]
          },
          "metadata": {},
          "execution_count": 3
        }
      ],
      "source": [
        "scalar= tf.constant(7)\n",
        "scalar"
      ]
    },
    {
      "cell_type": "code",
      "source": [
        "# Check the number of dimensions of a tensor (ndim stands for number of dimensions)\n",
        "scalar.ndim"
      ],
      "metadata": {
        "colab": {
          "base_uri": "https://localhost:8080/"
        },
        "id": "2Rn21rHXsYkZ",
        "outputId": "a13ed983-6224-45ca-e9c2-650d5ad3325f"
      },
      "execution_count": 4,
      "outputs": [
        {
          "output_type": "execute_result",
          "data": {
            "text/plain": [
              "0"
            ]
          },
          "metadata": {},
          "execution_count": 4
        }
      ]
    },
    {
      "cell_type": "markdown",
      "source": [
        "\n",
        "A scalar is known as a rank 0 tensor. Because it has no dimensions (it's just a number)."
      ],
      "metadata": {
        "id": "eoElRIuisJy4"
      }
    },
    {
      "cell_type": "markdown",
      "source": [
        "### Creating a vector with tf.constant()"
      ],
      "metadata": {
        "id": "YndKVByMsuuD"
      }
    },
    {
      "cell_type": "code",
      "execution_count": 5,
      "metadata": {
        "colab": {
          "base_uri": "https://localhost:8080/"
        },
        "id": "V7Ld2Sq_KzG1",
        "outputId": "efa014dd-fdbf-4037-bd68-08f14996ea12"
      },
      "outputs": [
        {
          "output_type": "execute_result",
          "data": {
            "text/plain": [
              "<tf.Tensor: shape=(2,), dtype=int32, numpy=array([ 7, 10], dtype=int32)>"
            ]
          },
          "metadata": {},
          "execution_count": 5
        }
      ],
      "source": [
        "vector= tf.constant([7,10])\n",
        "vector"
      ]
    },
    {
      "cell_type": "markdown",
      "metadata": {
        "id": "u0QNyU_zN_qB"
      },
      "source": [
        "We have one element in the shape section, so this is probably a one dim thingy"
      ]
    },
    {
      "cell_type": "code",
      "execution_count": 6,
      "metadata": {
        "colab": {
          "base_uri": "https://localhost:8080/"
        },
        "id": "0oIJf4QFOHRx",
        "outputId": "97df55a5-e94f-4d88-bccd-79954058c2c4"
      },
      "outputs": [
        {
          "output_type": "execute_result",
          "data": {
            "text/plain": [
              "1"
            ]
          },
          "metadata": {},
          "execution_count": 6
        }
      ],
      "source": [
        "vector.ndim"
      ]
    },
    {
      "cell_type": "markdown",
      "source": [
        "### Creating a matrix with tf.constant()"
      ],
      "metadata": {
        "id": "RmNV7N-rtCCe"
      }
    },
    {
      "cell_type": "code",
      "execution_count": 7,
      "metadata": {
        "colab": {
          "base_uri": "https://localhost:8080/"
        },
        "id": "GqBo2UCdOJty",
        "outputId": "80a975f6-5a76-4777-ae94-5d868ea34706"
      },
      "outputs": [
        {
          "output_type": "execute_result",
          "data": {
            "text/plain": [
              "<tf.Tensor: shape=(2, 2), dtype=int32, numpy=\n",
              "array([[ 7, 10],\n",
              "       [10,  7]], dtype=int32)>"
            ]
          },
          "metadata": {},
          "execution_count": 7
        }
      ],
      "source": [
        "matrix=tf.constant([[7,10],\n",
        "                    [10,7]])\n",
        "matrix"
      ]
    },
    {
      "cell_type": "code",
      "execution_count": 8,
      "metadata": {
        "colab": {
          "base_uri": "https://localhost:8080/"
        },
        "id": "BC53-MlNOnfT",
        "outputId": "a7456f93-e926-441c-af88-42591cbe77e0"
      },
      "outputs": [
        {
          "output_type": "execute_result",
          "data": {
            "text/plain": [
              "2"
            ]
          },
          "metadata": {},
          "execution_count": 8
        }
      ],
      "source": [
        "matrix.ndim"
      ]
    },
    {
      "cell_type": "code",
      "execution_count": 9,
      "metadata": {
        "colab": {
          "base_uri": "https://localhost:8080/"
        },
        "id": "iQK_BLGyOrR-",
        "outputId": "cb73cfa9-4447-4efa-d5b0-aaa5763b9e62"
      },
      "outputs": [
        {
          "output_type": "execute_result",
          "data": {
            "text/plain": [
              "<tf.Tensor: shape=(2, 2, 2), dtype=int32, numpy=\n",
              "array([[[ 7, 10],\n",
              "        [10,  7]],\n",
              "\n",
              "       [[ 3,  9],\n",
              "        [ 9,  3]]], dtype=int32)>"
            ]
          },
          "metadata": {},
          "execution_count": 9
        }
      ],
      "source": [
        "matrix_=tf.constant([[[7,10],\n",
        "                    [10,7]],\n",
        "                    [[3,9],\n",
        "                    [9,3]]])\n",
        "matrix_"
      ]
    },
    {
      "cell_type": "code",
      "execution_count": 10,
      "metadata": {
        "colab": {
          "base_uri": "https://localhost:8080/"
        },
        "id": "scDELJf3PED9",
        "outputId": "03be7cda-e44a-43f7-87da-cfebd875044a"
      },
      "outputs": [
        {
          "output_type": "execute_result",
          "data": {
            "text/plain": [
              "2"
            ]
          },
          "metadata": {},
          "execution_count": 10
        }
      ],
      "source": [
        "matrix.ndim"
      ]
    },
    {
      "cell_type": "code",
      "execution_count": 11,
      "metadata": {
        "colab": {
          "base_uri": "https://localhost:8080/"
        },
        "id": "aBALCLhFPKwA",
        "outputId": "ea1b55a4-dd65-45af-d5af-e31ca88f3ad9"
      },
      "outputs": [
        {
          "output_type": "execute_result",
          "data": {
            "text/plain": [
              "<tf.Tensor: shape=(3, 2, 2), dtype=int32, numpy=\n",
              "array([[[ 7, 10],\n",
              "        [10,  7]],\n",
              "\n",
              "       [[ 3,  9],\n",
              "        [ 9,  3]],\n",
              "\n",
              "       [[ 2,  4],\n",
              "        [ 2,  4]]], dtype=int32)>"
            ]
          },
          "metadata": {},
          "execution_count": 11
        }
      ],
      "source": [
        "matrix_=tf.constant([[[7,10],\n",
        "                    [10,7]],\n",
        "                   [[3,9],\n",
        "                    [9,3]],\n",
        "                   [[2,4],\n",
        "                    [2,4]]])\n",
        "matrix_"
      ]
    },
    {
      "cell_type": "code",
      "execution_count": 12,
      "metadata": {
        "colab": {
          "base_uri": "https://localhost:8080/"
        },
        "id": "-IjfeTS6PRB4",
        "outputId": "de148075-ef63-40cf-dce0-e70c633f4ee7"
      },
      "outputs": [
        {
          "output_type": "execute_result",
          "data": {
            "text/plain": [
              "3"
            ]
          },
          "metadata": {},
          "execution_count": 12
        }
      ],
      "source": [
        "matrix_.ndim"
      ]
    },
    {
      "cell_type": "markdown",
      "source": [
        "By default, TensorFlow creates tensors with either an int32 or float32 datatype.\n",
        "\n",
        "This is known as 32-bit precision (the higher the number, the more precise the number, the more space it takes up on your computer)."
      ],
      "metadata": {
        "id": "31ynRyTRta8i"
      }
    },
    {
      "cell_type": "markdown",
      "metadata": {
        "id": "3jPDO_u1BAfL"
      },
      "source": [
        "### 4. Creating a tensor with tf.variable()"
      ]
    },
    {
      "cell_type": "code",
      "execution_count": 13,
      "metadata": {
        "id": "IfL2z24qCtk0"
      },
      "outputs": [],
      "source": [
        "import tensorflow as tf"
      ]
    },
    {
      "cell_type": "code",
      "execution_count": 14,
      "metadata": {
        "colab": {
          "base_uri": "https://localhost:8080/"
        },
        "id": "Ntufqo87Bubr",
        "outputId": "5004ebc8-a83e-4396-cd08-37f03430606b"
      },
      "outputs": [
        {
          "output_type": "execute_result",
          "data": {
            "text/plain": [
              "<tf.Variable 'Variable:0' shape=(2,) dtype=int32, numpy=array([ 7, 10], dtype=int32)>"
            ]
          },
          "metadata": {},
          "execution_count": 14
        }
      ],
      "source": [
        "changeable_variable=tf.Variable([7,10])\n",
        "changeable_variable"
      ]
    },
    {
      "cell_type": "code",
      "source": [
        "# Will error (requires the .assign() method)\n",
        "changeable_tensor[0] = 7\n",
        "changeable_tensor"
      ],
      "metadata": {
        "colab": {
          "base_uri": "https://localhost:8080/",
          "height": 176
        },
        "id": "fla2ei9at1Is",
        "outputId": "ccb52cf6-689e-4743-a70b-ec7fd4e25679"
      },
      "execution_count": 15,
      "outputs": [
        {
          "output_type": "error",
          "ename": "NameError",
          "evalue": "name 'changeable_tensor' is not defined",
          "traceback": [
            "\u001b[0;31m---------------------------------------------------------------------------\u001b[0m",
            "\u001b[0;31mNameError\u001b[0m                                 Traceback (most recent call last)",
            "\u001b[0;32m<ipython-input-15-daecfbad2415>\u001b[0m in \u001b[0;36m<cell line: 2>\u001b[0;34m()\u001b[0m\n\u001b[1;32m      1\u001b[0m \u001b[0;31m# Will error (requires the .assign() method)\u001b[0m\u001b[0;34m\u001b[0m\u001b[0;34m\u001b[0m\u001b[0m\n\u001b[0;32m----> 2\u001b[0;31m \u001b[0mchangeable_tensor\u001b[0m\u001b[0;34m[\u001b[0m\u001b[0;36m0\u001b[0m\u001b[0;34m]\u001b[0m \u001b[0;34m=\u001b[0m \u001b[0;36m7\u001b[0m\u001b[0;34m\u001b[0m\u001b[0;34m\u001b[0m\u001b[0m\n\u001b[0m\u001b[1;32m      3\u001b[0m \u001b[0mchangeable_tensor\u001b[0m\u001b[0;34m\u001b[0m\u001b[0;34m\u001b[0m\u001b[0m\n",
            "\u001b[0;31mNameError\u001b[0m: name 'changeable_tensor' is not defined"
          ]
        }
      ]
    },
    {
      "cell_type": "code",
      "execution_count": 16,
      "metadata": {
        "colab": {
          "base_uri": "https://localhost:8080/"
        },
        "id": "oZrxidL9DBtz",
        "outputId": "7a605688-0749-4697-de1d-d6639a023d38"
      },
      "outputs": [
        {
          "output_type": "execute_result",
          "data": {
            "text/plain": [
              "<tf.Variable 'UnreadVariable' shape=(2,) dtype=int32, numpy=array([7, 7], dtype=int32)>"
            ]
          },
          "metadata": {},
          "execution_count": 16
        }
      ],
      "source": [
        "changeable_variable[1].assign(7)"
      ]
    },
    {
      "cell_type": "code",
      "execution_count": 17,
      "metadata": {
        "colab": {
          "base_uri": "https://localhost:8080/"
        },
        "id": "oP2KXjrHC4Az",
        "outputId": "25d017e5-1a9d-4e15-bbb9-9f4879177dda"
      },
      "outputs": [
        {
          "output_type": "execute_result",
          "data": {
            "text/plain": [
              "<tf.Tensor: shape=(2,), dtype=int32, numpy=array([ 7, 10], dtype=int32)>"
            ]
          },
          "metadata": {},
          "execution_count": 17
        }
      ],
      "source": [
        "unchangeable_variable=tf.constant([7,10])\n",
        "unchangeable_variable"
      ]
    },
    {
      "cell_type": "code",
      "execution_count": 18,
      "metadata": {
        "colab": {
          "base_uri": "https://localhost:8080/"
        },
        "id": "Ch-UMo-hDJbl",
        "outputId": "1493e18c-0dfa-48e0-b5fb-0533f97231c2"
      },
      "outputs": [
        {
          "output_type": "execute_result",
          "data": {
            "text/plain": [
              "tensorflow.python.framework.ops.EagerTensor"
            ]
          },
          "metadata": {},
          "execution_count": 18
        }
      ],
      "source": [
        "type(unchangeable_variable)"
      ]
    },
    {
      "cell_type": "markdown",
      "metadata": {
        "id": "P3xvUgsEETvW"
      },
      "source": [
        "Rarely in practice, you will have to decide whether an attribute needs to be constant or variable, **TensorFlow ** will do it for you.\n",
        "If one cannot decide, you make it constant then change it to variable."
      ]
    },
    {
      "cell_type": "markdown",
      "source": [
        "## 5. Creating random tensors"
      ],
      "metadata": {
        "id": "CjXOlWomuVGQ"
      }
    },
    {
      "cell_type": "markdown",
      "source": [
        "Why ? Neural networks initialize their weights as random n-dimensional arrays, which are then refined through learning to capture meaningful patterns in the data."
      ],
      "metadata": {
        "id": "wnjedEEqZ81m"
      }
    },
    {
      "cell_type": "markdown",
      "metadata": {
        "id": "qEsLrbk_H1nt"
      },
      "source": [
        "TF.RANDOM"
      ]
    },
    {
      "cell_type": "code",
      "execution_count": 19,
      "metadata": {
        "colab": {
          "base_uri": "https://localhost:8080/"
        },
        "id": "Sch2yapPDdMx",
        "outputId": "f0bc8e19-afe1-4932-a9f6-24322e9b076f"
      },
      "outputs": [
        {
          "output_type": "execute_result",
          "data": {
            "text/plain": [
              "<tf.Tensor: shape=(2, 2), dtype=float32, numpy=\n",
              "array([[-0.7565803 , -0.06854702],\n",
              "       [ 0.07595026, -1.2573844 ]], dtype=float32)>"
            ]
          },
          "metadata": {},
          "execution_count": 19
        }
      ],
      "source": [
        "random_1 = tf.random.Generator.from_seed(42)\n",
        "random_1 = random_1.normal([2,2])\n",
        "random_1"
      ]
    },
    {
      "cell_type": "code",
      "execution_count": 20,
      "metadata": {
        "colab": {
          "base_uri": "https://localhost:8080/"
        },
        "id": "wsBRiVdXKWsP",
        "outputId": "d0a0ad2d-0e4e-4da5-ab79-53c357c9c988"
      },
      "outputs": [
        {
          "output_type": "execute_result",
          "data": {
            "text/plain": [
              "<tf.Tensor: shape=(2, 2), dtype=float32, numpy=\n",
              "array([[-0.7565803 , -0.06854702],\n",
              "       [ 0.07595026, -1.2573844 ]], dtype=float32)>"
            ]
          },
          "metadata": {},
          "execution_count": 20
        }
      ],
      "source": [
        "random_2 = tf.random.Generator.from_seed(42)\n",
        "random_2 = random_2.normal([2,2])\n",
        "random_2"
      ]
    },
    {
      "cell_type": "markdown",
      "source": [
        "## 6. Other ways to make tensors"
      ],
      "metadata": {
        "id": "bKDdWjbqc6vi"
      }
    },
    {
      "cell_type": "markdown",
      "source": [
        "### Make a tensor of all ones\n"
      ],
      "metadata": {
        "id": "lFIfO_62dXUZ"
      }
    },
    {
      "cell_type": "code",
      "source": [
        "tf.ones(shape=(3, 2))"
      ],
      "metadata": {
        "colab": {
          "base_uri": "https://localhost:8080/"
        },
        "id": "P9cKMsoNc85V",
        "outputId": "8859ab3a-d9cd-4107-f1e6-f0ec06453c20"
      },
      "execution_count": 22,
      "outputs": [
        {
          "output_type": "execute_result",
          "data": {
            "text/plain": [
              "<tf.Tensor: shape=(3, 2), dtype=float32, numpy=\n",
              "array([[1., 1.],\n",
              "       [1., 1.],\n",
              "       [1., 1.]], dtype=float32)>"
            ]
          },
          "metadata": {},
          "execution_count": 22
        }
      ]
    },
    {
      "cell_type": "markdown",
      "source": [
        "### Make a tensor of all zeros"
      ],
      "metadata": {
        "id": "yIVVNMscdbfD"
      }
    },
    {
      "cell_type": "code",
      "source": [
        "tf.zeros(shape=(3, 2))"
      ],
      "metadata": {
        "colab": {
          "base_uri": "https://localhost:8080/"
        },
        "id": "fogFr2mFdbJx",
        "outputId": "a90f326a-b1eb-4849-be25-41717200bf19"
      },
      "execution_count": 23,
      "outputs": [
        {
          "output_type": "execute_result",
          "data": {
            "text/plain": [
              "<tf.Tensor: shape=(3, 2), dtype=float32, numpy=\n",
              "array([[0., 0.],\n",
              "       [0., 0.],\n",
              "       [0., 0.]], dtype=float32)>"
            ]
          },
          "metadata": {},
          "execution_count": 23
        }
      ]
    },
    {
      "cell_type": "markdown",
      "source": [
        "### Turn a numpy array and python list into array"
      ],
      "metadata": {
        "id": "ZJwiGUIgdkDx"
      }
    },
    {
      "cell_type": "code",
      "source": [
        "# Creating tensors\n",
        "tensor_a = tf.constant([[1, 2], [3, 4]])\n",
        "tensor_b = tf.constant([[5, 6], [7, 8]])\n",
        "\n",
        "# Adding tensors\n",
        "tensor_sum = tf.add(tensor_a, tensor_b)\n",
        "print(\"Tensor Addition:\\n\", tensor_sum)\n",
        "\n",
        "# Multiplying tensors (element-wise)\n",
        "tensor_mul = tf.multiply(tensor_a, tensor_b)\n",
        "print(\"Tensor Element-wise Multiplication:\\n\", tensor_mul)\n",
        "\n",
        "# Matrix multiplication\n",
        "tensor_matmul = tf.matmul(tensor_a, tensor_b)\n",
        "print(\"Tensor Matrix Multiplication:\\n\", tensor_matmul)\n"
      ],
      "metadata": {
        "colab": {
          "base_uri": "https://localhost:8080/"
        },
        "id": "lbS2mg02dnc9",
        "outputId": "907b2582-5257-4327-9744-b5ff842630c4"
      },
      "execution_count": 24,
      "outputs": [
        {
          "output_type": "stream",
          "name": "stdout",
          "text": [
            "Tensor Addition:\n",
            " tf.Tensor(\n",
            "[[ 6  8]\n",
            " [10 12]], shape=(2, 2), dtype=int32)\n",
            "Tensor Element-wise Multiplication:\n",
            " tf.Tensor(\n",
            "[[ 5 12]\n",
            " [21 32]], shape=(2, 2), dtype=int32)\n",
            "Tensor Matrix Multiplication:\n",
            " tf.Tensor(\n",
            "[[19 22]\n",
            " [43 50]], shape=(2, 2), dtype=int32)\n"
          ]
        }
      ]
    },
    {
      "cell_type": "markdown",
      "source": [
        "## 7. Getting information from tensors"
      ],
      "metadata": {
        "id": "No586jBpd7CV"
      }
    },
    {
      "cell_type": "code",
      "source": [
        "rank_4_tensor = tf.zeros([2, 3, 4, 5])\n",
        "rank_4_tensor"
      ],
      "metadata": {
        "colab": {
          "base_uri": "https://localhost:8080/"
        },
        "id": "x20Oes7Zdzfx",
        "outputId": "1d0ec818-6695-4b7f-f91a-9e169e79d7e4"
      },
      "execution_count": 25,
      "outputs": [
        {
          "output_type": "execute_result",
          "data": {
            "text/plain": [
              "<tf.Tensor: shape=(2, 3, 4, 5), dtype=float32, numpy=\n",
              "array([[[[0., 0., 0., 0., 0.],\n",
              "         [0., 0., 0., 0., 0.],\n",
              "         [0., 0., 0., 0., 0.],\n",
              "         [0., 0., 0., 0., 0.]],\n",
              "\n",
              "        [[0., 0., 0., 0., 0.],\n",
              "         [0., 0., 0., 0., 0.],\n",
              "         [0., 0., 0., 0., 0.],\n",
              "         [0., 0., 0., 0., 0.]],\n",
              "\n",
              "        [[0., 0., 0., 0., 0.],\n",
              "         [0., 0., 0., 0., 0.],\n",
              "         [0., 0., 0., 0., 0.],\n",
              "         [0., 0., 0., 0., 0.]]],\n",
              "\n",
              "\n",
              "       [[[0., 0., 0., 0., 0.],\n",
              "         [0., 0., 0., 0., 0.],\n",
              "         [0., 0., 0., 0., 0.],\n",
              "         [0., 0., 0., 0., 0.]],\n",
              "\n",
              "        [[0., 0., 0., 0., 0.],\n",
              "         [0., 0., 0., 0., 0.],\n",
              "         [0., 0., 0., 0., 0.],\n",
              "         [0., 0., 0., 0., 0.]],\n",
              "\n",
              "        [[0., 0., 0., 0., 0.],\n",
              "         [0., 0., 0., 0., 0.],\n",
              "         [0., 0., 0., 0., 0.],\n",
              "         [0., 0., 0., 0., 0.]]]], dtype=float32)>"
            ]
          },
          "metadata": {},
          "execution_count": 25
        }
      ]
    },
    {
      "cell_type": "code",
      "source": [
        "rank_4_tensor.shape, rank_4_tensor.ndim, tf.size(rank_4_tensor)"
      ],
      "metadata": {
        "colab": {
          "base_uri": "https://localhost:8080/"
        },
        "id": "Rq4E3KlWeA_2",
        "outputId": "5c1a4804-0be9-4f74-b319-5d4c10adc6c7"
      },
      "execution_count": 26,
      "outputs": [
        {
          "output_type": "execute_result",
          "data": {
            "text/plain": [
              "(TensorShape([2, 3, 4, 5]), 4, <tf.Tensor: shape=(), dtype=int32, numpy=120>)"
            ]
          },
          "metadata": {},
          "execution_count": 26
        }
      ]
    },
    {
      "cell_type": "markdown",
      "source": [
        "### Get various attributes of tensor"
      ],
      "metadata": {
        "id": "zNliF0lheW8U"
      }
    },
    {
      "cell_type": "code",
      "source": [
        "print(\"Datatype of every element:\", rank_4_tensor.dtype)\n",
        "print(\"Number of dimensions (rank):\", rank_4_tensor.ndim)\n",
        "print(\"Shape of tensor:\", rank_4_tensor.shape)\n",
        "print(\"Elements along axis 0 of tensor:\", rank_4_tensor.shape[0])\n",
        "print(\"Elements along last axis of tensor:\", rank_4_tensor.shape[-1])\n",
        "print(\"Total number of elements (2*3*4*5):\", tf.size(rank_4_tensor).numpy())"
      ],
      "metadata": {
        "colab": {
          "base_uri": "https://localhost:8080/"
        },
        "id": "SNoBTqOkeDU2",
        "outputId": "78c729a8-45e9-430e-8b4b-b2f2362d37a7"
      },
      "execution_count": 27,
      "outputs": [
        {
          "output_type": "stream",
          "name": "stdout",
          "text": [
            "Datatype of every element: <dtype: 'float32'>\n",
            "Number of dimensions (rank): 4\n",
            "Shape of tensor: (2, 3, 4, 5)\n",
            "Elements along axis 0 of tensor: 2\n",
            "Elements along last axis of tensor: 5\n",
            "Total number of elements (2*3*4*5): 120\n"
          ]
        }
      ]
    },
    {
      "cell_type": "markdown",
      "source": [
        "### Get the first 2 items of each dimension"
      ],
      "metadata": {
        "id": "McIpp2Owebe7"
      }
    },
    {
      "cell_type": "code",
      "source": [
        "rank_4_tensor[:2, :2, :2, :2]"
      ],
      "metadata": {
        "colab": {
          "base_uri": "https://localhost:8080/"
        },
        "id": "N6L36jXgeQeM",
        "outputId": "aa18867a-c92d-47f1-b059-beeb2eac5225"
      },
      "execution_count": 28,
      "outputs": [
        {
          "output_type": "execute_result",
          "data": {
            "text/plain": [
              "<tf.Tensor: shape=(2, 2, 2, 2), dtype=float32, numpy=\n",
              "array([[[[0., 0.],\n",
              "         [0., 0.]],\n",
              "\n",
              "        [[0., 0.],\n",
              "         [0., 0.]]],\n",
              "\n",
              "\n",
              "       [[[0., 0.],\n",
              "         [0., 0.]],\n",
              "\n",
              "        [[0., 0.],\n",
              "         [0., 0.]]]], dtype=float32)>"
            ]
          },
          "metadata": {},
          "execution_count": 28
        }
      ]
    },
    {
      "cell_type": "markdown",
      "source": [
        "### Changing the datatype of a tensor"
      ],
      "metadata": {
        "id": "jNwPCXK6eqwS"
      }
    },
    {
      "cell_type": "markdown",
      "source": [
        "At times, you may need to modify the default datatype of a tensor.\n",
        "\n",
        "This is often done to reduce precision, such as switching from 32-bit to 16-bit floating-point numbers.\n",
        "\n",
        "Lower precision is advantageous on devices with limited computational power, like mobile devices, as it reduces the memory and processing requirements.\n",
        "\n",
        "You can use tf.cast() to adjust a tensor's datatype."
      ],
      "metadata": {
        "id": "O652tT3Ie49k"
      }
    },
    {
      "cell_type": "code",
      "source": [
        "# Create a new tensor with default datatype (float32)\n",
        "B = tf.constant([1.7, 7.4])\n",
        "\n",
        "# Create a new tensor with default datatype (int32)\n",
        "C = tf.constant([1, 7])\n",
        "B, C\n",
        ""
      ],
      "metadata": {
        "colab": {
          "base_uri": "https://localhost:8080/"
        },
        "id": "9loHXzAWfrPU",
        "outputId": "cb2e8f0d-a2ad-4cc2-96fe-901641811622"
      },
      "execution_count": 29,
      "outputs": [
        {
          "output_type": "execute_result",
          "data": {
            "text/plain": [
              "(<tf.Tensor: shape=(2,), dtype=float32, numpy=array([1.7, 7.4], dtype=float32)>,\n",
              " <tf.Tensor: shape=(2,), dtype=int32, numpy=array([1, 7], dtype=int32)>)"
            ]
          },
          "metadata": {},
          "execution_count": 29
        }
      ]
    },
    {
      "cell_type": "code",
      "source": [
        "\n",
        "# Change from float32 to float16 (reduced precision)\n",
        "B = tf.cast(B, dtype=tf.float16)\n",
        "B\n",
        "\n",
        "\n",
        "# Change from int32 to float32\n",
        "C = tf.cast(C, dtype=tf.float32)\n",
        "C"
      ],
      "metadata": {
        "colab": {
          "base_uri": "https://localhost:8080/"
        },
        "id": "mLpJwkwNgL4d",
        "outputId": "112aefe9-376e-4e6e-ad15-de792fc1ad32"
      },
      "execution_count": 30,
      "outputs": [
        {
          "output_type": "execute_result",
          "data": {
            "text/plain": [
              "<tf.Tensor: shape=(2,), dtype=float32, numpy=array([1., 7.], dtype=float32)>"
            ]
          },
          "metadata": {},
          "execution_count": 30
        }
      ]
    },
    {
      "cell_type": "markdown",
      "source": [
        "## 8. Basic Tensor Operations"
      ],
      "metadata": {
        "id": "j6I9hTO4gTbn"
      }
    },
    {
      "cell_type": "markdown",
      "source": [
        "### Creating Tensors"
      ],
      "metadata": {
        "id": "ucw1PCQngpp6"
      }
    },
    {
      "cell_type": "code",
      "source": [
        "tensor_a = tf.constant([[1, 2], [3, 4]])\n",
        "tensor_b = tf.constant([[5, 6], [7, 8]])"
      ],
      "metadata": {
        "id": "_RMy0dWNgTDa"
      },
      "execution_count": 39,
      "outputs": []
    },
    {
      "cell_type": "markdown",
      "source": [
        "### Adding tensors\n",
        "\n"
      ],
      "metadata": {
        "id": "ZbPmuIDGgvdT"
      }
    },
    {
      "cell_type": "code",
      "source": [
        "tensor_sum = tf.add(tensor_a, tensor_b)\n",
        "print(\"Tensor Addition:\\n\", tensor_sum)"
      ],
      "metadata": {
        "colab": {
          "base_uri": "https://localhost:8080/"
        },
        "id": "N4BarlgTgNmF",
        "outputId": "5f90535b-fbea-49c0-e277-e4a8248d8dbe"
      },
      "execution_count": 40,
      "outputs": [
        {
          "output_type": "stream",
          "name": "stdout",
          "text": [
            "Tensor Addition:\n",
            " tf.Tensor(\n",
            "[[ 6  8]\n",
            " [10 12]], shape=(2, 2), dtype=int32)\n"
          ]
        }
      ]
    },
    {
      "cell_type": "markdown",
      "source": [
        "### Multiplying tensors (element-wise)"
      ],
      "metadata": {
        "id": "MatG70VDg5gf"
      }
    },
    {
      "cell_type": "code",
      "source": [
        "tensor_mul = tf.multiply(tensor_a, tensor_b)\n",
        "print(\"Tensor Element-wise Multiplication:\\n\", tensor_mul)\n"
      ],
      "metadata": {
        "colab": {
          "base_uri": "https://localhost:8080/"
        },
        "id": "kOMupJ6Rg41j",
        "outputId": "ec0be952-4406-482a-9c8f-fc258773982d"
      },
      "execution_count": 41,
      "outputs": [
        {
          "output_type": "stream",
          "name": "stdout",
          "text": [
            "Tensor Element-wise Multiplication:\n",
            " tf.Tensor(\n",
            "[[ 5 12]\n",
            " [21 32]], shape=(2, 2), dtype=int32)\n"
          ]
        }
      ]
    },
    {
      "cell_type": "markdown",
      "source": [
        "### Matrix multiplication"
      ],
      "metadata": {
        "id": "jWDeflczhVTJ"
      }
    },
    {
      "cell_type": "code",
      "source": [
        "tensor_matmul = tf.matmul(tensor_a, tensor_b)\n",
        "print(\"Tensor Matrix Multiplication:\\n\", tensor_matmul)"
      ],
      "metadata": {
        "colab": {
          "base_uri": "https://localhost:8080/"
        },
        "id": "yQbZhQz-hMik",
        "outputId": "afd0a8bc-ee6e-4023-a8ce-2e73e1d3037c"
      },
      "execution_count": 42,
      "outputs": [
        {
          "output_type": "stream",
          "name": "stdout",
          "text": [
            "Tensor Matrix Multiplication:\n",
            " tf.Tensor(\n",
            "[[19 22]\n",
            " [43 50]], shape=(2, 2), dtype=int32)\n"
          ]
        }
      ]
    },
    {
      "cell_type": "markdown",
      "source": [
        "## 9. Changing Tensor Shape"
      ],
      "metadata": {
        "id": "6cEdkMS4hbFv"
      }
    },
    {
      "cell_type": "markdown",
      "source": [
        "### Create a tensor"
      ],
      "metadata": {
        "id": "TwFyT2PohmcE"
      }
    },
    {
      "cell_type": "code",
      "source": [
        "tensor = tf.constant([1, 2, 3, 4, 5, 6])"
      ],
      "metadata": {
        "id": "QwQnRT_yhqaM"
      },
      "execution_count": 43,
      "outputs": []
    },
    {
      "cell_type": "markdown",
      "source": [
        "### Resahpe the tensor"
      ],
      "metadata": {
        "id": "alB7q1DYhsi9"
      }
    },
    {
      "cell_type": "code",
      "source": [
        "reshaped_tensor = tf.reshape(tensor, [2, 3])\n",
        "print(\"Reshaped Tensor:\\n\", reshaped_tensor)"
      ],
      "metadata": {
        "colab": {
          "base_uri": "https://localhost:8080/"
        },
        "id": "f74URgOIhwYR",
        "outputId": "58713124-8fd4-4e40-f8b6-c3d332d63b1c"
      },
      "execution_count": 44,
      "outputs": [
        {
          "output_type": "stream",
          "name": "stdout",
          "text": [
            "Reshaped Tensor:\n",
            " tf.Tensor(\n",
            "[[1 2 3]\n",
            " [4 5 6]], shape=(2, 3), dtype=int32)\n"
          ]
        }
      ]
    },
    {
      "cell_type": "markdown",
      "source": [
        "### Flatten the tensor"
      ],
      "metadata": {
        "id": "8GO24P5uhy3o"
      }
    },
    {
      "cell_type": "code",
      "source": [
        "flattened_tensor = tf.reshape(reshaped_tensor, [-1])\n",
        "print(\"Flattened Tensor:\", flattened_tensor)\n"
      ],
      "metadata": {
        "colab": {
          "base_uri": "https://localhost:8080/"
        },
        "id": "fgqOOCIFh2M4",
        "outputId": "3a99dcbc-bd02-48c6-d13a-55b83c625745"
      },
      "execution_count": 45,
      "outputs": [
        {
          "output_type": "stream",
          "name": "stdout",
          "text": [
            "Flattened Tensor: tf.Tensor([1 2 3 4 5 6], shape=(6,), dtype=int32)\n"
          ]
        }
      ]
    },
    {
      "cell_type": "markdown",
      "source": [
        "## 10. Slicing and Indexing Tensors"
      ],
      "metadata": {
        "id": "eUSjoF6PiAKL"
      }
    },
    {
      "cell_type": "code",
      "source": [
        "# Create a tensor\n",
        "tensor = tf.constant([[1, 2, 3], [4, 5, 6], [7, 8, 9]])\n",
        "\n",
        "# Slice the tensor\n",
        "slice = tensor[0:2, 1:]\n",
        "print(\"Sliced Tensor:\\n\", slice)\n",
        "\n",
        "# Access specific element\n",
        "element = tensor[2, 1]\n",
        "print(\"Element at (2,1):\", element)\n"
      ],
      "metadata": {
        "colab": {
          "base_uri": "https://localhost:8080/"
        },
        "id": "8XhilZffiBz2",
        "outputId": "6eaf1b87-f83c-4ed4-a8f1-235a6e30c1f6"
      },
      "execution_count": 46,
      "outputs": [
        {
          "output_type": "stream",
          "name": "stdout",
          "text": [
            "Sliced Tensor:\n",
            " tf.Tensor(\n",
            "[[2 3]\n",
            " [5 6]], shape=(2, 2), dtype=int32)\n",
            "Element at (2,1): tf.Tensor(8, shape=(), dtype=int32)\n"
          ]
        }
      ]
    },
    {
      "cell_type": "markdown",
      "source": [
        "## 11. Testing Tensor Precision"
      ],
      "metadata": {
        "id": "MQIiR-S-iNXx"
      }
    },
    {
      "cell_type": "code",
      "source": [
        "# Create tensors in different precisions\n",
        "tensor_32 = tf.constant([1.1, 2.2, 3.3], dtype=tf.float32)\n",
        "tensor_16 = tf.constant([1.1, 2.2, 3.3], dtype=tf.float16)\n",
        "\n",
        "# Compute their sum\n",
        "sum_32 = tf.reduce_sum(tensor_32)\n",
        "sum_16 = tf.reduce_sum(tensor_16)\n",
        "\n",
        "print(\"Sum with 32-bit precision:\", sum_32.numpy())\n",
        "print(\"Sum with 16-bit precision:\", sum_16.numpy())\n"
      ],
      "metadata": {
        "colab": {
          "base_uri": "https://localhost:8080/"
        },
        "id": "E-jJYzaOiP7f",
        "outputId": "8dc30fad-941b-423e-f256-3d2594f99579"
      },
      "execution_count": 47,
      "outputs": [
        {
          "output_type": "stream",
          "name": "stdout",
          "text": [
            "Sum with 32-bit precision: 6.6000004\n",
            "Sum with 16-bit precision: 6.6\n"
          ]
        }
      ]
    },
    {
      "cell_type": "markdown",
      "source": [
        "## 12.  Using @tf.function to Speed Up Regular Python Functions"
      ],
      "metadata": {
        "id": "9Uqb-uyVi_ez"
      }
    },
    {
      "cell_type": "markdown",
      "source": [
        "@tf.function is a powerful TensorFlow decorator that converts a regular Python function into a TensorFlow graph, optimizing performance and enabling execution on devices like GPUs or TPUs. Here's how to use it:"
      ],
      "metadata": {
        "id": "9U3qbTDijCCz"
      }
    },
    {
      "cell_type": "code",
      "source": [
        "# Define a simple function\n",
        "def add_tensors(a, b):\n",
        "    return a + b\n",
        "\n",
        "# Convert the function to a TensorFlow graph\n",
        "@tf.function\n",
        "def add_tensors_tf(a, b):\n",
        "    return a + b\n",
        "\n",
        "# Test with tensors\n",
        "tensor_a = tf.constant([1, 2, 3], dtype=tf.float32)\n",
        "tensor_b = tf.constant([4, 5, 6], dtype=tf.float32)\n",
        "\n",
        "# Measure execution time without @tf.function\n",
        "import time\n",
        "start_time = time.time()\n",
        "print(\"Without tf.function:\", add_tensors(tensor_a, tensor_b))\n",
        "print(\"Time without tf.function:\", time.time() - start_time)\n",
        "\n",
        "# Measure execution time with @tf.function\n",
        "start_time = time.time()\n",
        "print(\"With tf.function:\", add_tensors_tf(tensor_a, tensor_b))\n",
        "print(\"Time with tf.function:\", time.time() - start_time)\n"
      ],
      "metadata": {
        "colab": {
          "base_uri": "https://localhost:8080/"
        },
        "id": "YmxOObatjH_T",
        "outputId": "4406639e-24b1-4989-c091-3b8f3ba770c3"
      },
      "execution_count": 48,
      "outputs": [
        {
          "output_type": "stream",
          "name": "stdout",
          "text": [
            "Without tf.function: tf.Tensor([5. 7. 9.], shape=(3,), dtype=float32)\n",
            "Time without tf.function: 0.0030770301818847656\n",
            "With tf.function: tf.Tensor([5. 7. 9.], shape=(3,), dtype=float32)\n",
            "Time with tf.function: 0.06192660331726074\n"
          ]
        }
      ]
    },
    {
      "cell_type": "markdown",
      "source": [
        "The results don't represent how fast it works because we're using a very simple operation."
      ],
      "metadata": {
        "id": "O47kaSVSjUNl"
      }
    },
    {
      "cell_type": "markdown",
      "source": [
        "## 13. Using GPUs with TensorFlow"
      ],
      "metadata": {
        "id": "oLHPpUxLjmQu"
      }
    },
    {
      "cell_type": "code",
      "source": [
        "# List available physical devices (CPU and GPU)\n",
        "physical_devices = tf.config.list_physical_devices()\n",
        "print(\"Available physical devices:\", physical_devices)\n",
        "\n",
        "# List GPU devices\n",
        "gpus = tf.config.list_physical_devices('GPU')\n",
        "if len(gpus) > 0:\n",
        "    print(f\"GPU is available: {gpus[0]}\")\n",
        "else:\n",
        "    print(\"No GPU detected.\")\n"
      ],
      "metadata": {
        "colab": {
          "base_uri": "https://localhost:8080/"
        },
        "id": "F8upMh9DjiNF",
        "outputId": "6d0b3195-d788-4f12-c5a8-2df23a4cfd5f"
      },
      "execution_count": 49,
      "outputs": [
        {
          "output_type": "stream",
          "name": "stdout",
          "text": [
            "Available physical devices: [PhysicalDevice(name='/physical_device:CPU:0', device_type='CPU'), PhysicalDevice(name='/physical_device:GPU:0', device_type='GPU')]\n",
            "GPU is available: PhysicalDevice(name='/physical_device:GPU:0', device_type='GPU')\n"
          ]
        }
      ]
    },
    {
      "cell_type": "markdown",
      "source": [
        "### Specify which GPU to use for a computation."
      ],
      "metadata": {
        "id": "0vm3jnuckOpD"
      }
    },
    {
      "cell_type": "code",
      "source": [
        "# Set TensorFlow to use the first GPU (if available)\n",
        "if gpus:\n",
        "    tf.config.set_visible_devices(gpus[0], 'GPU')\n",
        "    print(\"Using GPU:\", gpus[0])\n",
        "else:\n",
        "    print(\"Using CPU.\")\n",
        "\n",
        "# Create a tensor and run it on GPU\n",
        "tensor_on_gpu = tf.constant([1.0, 2.0, 3.0])\n",
        "print(\"Tensor on GPU:\", tensor_on_gpu)\n"
      ],
      "metadata": {
        "colab": {
          "base_uri": "https://localhost:8080/"
        },
        "id": "IfCw5f96kBUP",
        "outputId": "5394749a-4592-4532-a303-da532b270860"
      },
      "execution_count": 50,
      "outputs": [
        {
          "output_type": "stream",
          "name": "stdout",
          "text": [
            "Using GPU: PhysicalDevice(name='/physical_device:GPU:0', device_type='GPU')\n",
            "Tensor on GPU: tf.Tensor([1. 2. 3.], shape=(3,), dtype=float32)\n"
          ]
        }
      ]
    },
    {
      "cell_type": "markdown",
      "source": [
        "### Using tf.device to Specify Device (GPU or CPU)"
      ],
      "metadata": {
        "id": "89mvEvypkWXl"
      }
    },
    {
      "cell_type": "code",
      "source": [
        "with tf.device('/GPU:0'):  # Change to '/CPU:0' to use CPU\n",
        "    tensor_a = tf.random.normal([10000, 10000])\n",
        "    tensor_b = tf.random.normal([10000, 10000])\n",
        "    result = tf.matmul(tensor_a, tensor_b)\n",
        "\n",
        "print(\"Computation result on device:\", result)\n"
      ],
      "metadata": {
        "colab": {
          "base_uri": "https://localhost:8080/"
        },
        "id": "-Z6xNOeIkYhl",
        "outputId": "6cb2b53b-0fa3-43f8-c7df-5cc6c91b6eaa"
      },
      "execution_count": 51,
      "outputs": [
        {
          "output_type": "stream",
          "name": "stdout",
          "text": [
            "Computation result on device: tf.Tensor(\n",
            "[[ 172.5944    -153.8392      95.6782    ...  -16.166897   102.85215\n",
            "   -44.347454 ]\n",
            " [ 160.5885     -45.118397   -30.596466  ...  112.45843   -180.09584\n",
            "   -83.15066  ]\n",
            " [-137.80981    -76.96231    -78.77242   ...  -94.38506    269.0589\n",
            "    19.37499  ]\n",
            " ...\n",
            " [ -41.204018    22.361132    95.50313   ...  -49.661583   -17.635387\n",
            "    50.68065  ]\n",
            " [ -13.441215   230.37833    108.069756  ... -192.21632    148.42174\n",
            "  -179.2088   ]\n",
            " [-109.298256    72.70763     91.58525   ...  -72.98904   -152.30733\n",
            "    -6.0772023]], shape=(10000, 10000), dtype=float32)\n"
          ]
        }
      ]
    }
  ],
  "metadata": {
    "colab": {
      "provenance": [],
      "gpuType": "T4"
    },
    "kernelspec": {
      "display_name": "Python 3",
      "name": "python3"
    },
    "language_info": {
      "name": "python"
    },
    "accelerator": "GPU"
  },
  "nbformat": 4,
  "nbformat_minor": 0
}